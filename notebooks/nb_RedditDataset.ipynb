{
  "nbformat": 4,
  "nbformat_minor": 0,
  "metadata": {
    "colab": {
      "name": "MainProject_RedditDataset.ipynb",
      "provenance": [],
      "collapsed_sections": [],
      "authorship_tag": "ABX9TyMW77zmf315oWUERvWDfkcJ",
      "include_colab_link": true
    },
    "kernelspec": {
      "name": "python3",
      "display_name": "Python 3"
    },
    "language_info": {
      "name": "python"
    }
  },
  "cells": [
    {
      "cell_type": "markdown",
      "metadata": {
        "id": "view-in-github",
        "colab_type": "text"
      },
      "source": [
        "<a href=\"https://colab.research.google.com/github/gestured/Cat_vs_Dog_Classifier/blob/main/notebooks/nb_RedditDataset.ipynb\" target=\"_parent\"><img src=\"https://colab.research.google.com/assets/colab-badge.svg\" alt=\"Open In Colab\"/></a>"
      ]
    },
    {
      "cell_type": "markdown",
      "source": [
        "# Session-based Recommender System"
      ],
      "metadata": {
        "id": "NN12o6_UvRaH"
      }
    },
    {
      "cell_type": "code",
      "execution_count": 1,
      "metadata": {
        "id": "K_U3dMaASglF",
        "cellView": "form"
      },
      "outputs": [],
      "source": [
        "#@title Import Libraries\n",
        "import pandas as pd\n",
        "\n",
        "from datetime import datetime , timedelta\n",
        "import matplotlib.pyplot as plt\n",
        "%matplotlib inline\n",
        "\n",
        "from sklearn.utils import shuffle\n",
        "import random\n",
        "import ast\n",
        "import numpy as np\n",
        "from tqdm import tqdm"
      ]
    },
    {
      "cell_type": "markdown",
      "source": [
        "## Cloning Git or Mounting Drive"
      ],
      "metadata": {
        "id": "gVcCeDQWuN5A"
      }
    },
    {
      "cell_type": "markdown",
      "source": [
        "### Drive Way"
      ],
      "metadata": {
        "id": "e6fwUVeouk54"
      }
    },
    {
      "cell_type": "code",
      "source": [
        "#@title Mount G-drive\n",
        "from google.colab import drive\n",
        "drive.mount('/content/drive')"
      ],
      "metadata": {
        "colab": {
          "base_uri": "https://localhost:8080/"
        },
        "id": "hk7v08SWwY9h",
        "outputId": "1e43802e-aaf5-4156-dc13-93df4d7e5d81",
        "cellView": "form"
      },
      "execution_count": 2,
      "outputs": [
        {
          "output_type": "stream",
          "name": "stdout",
          "text": [
            "Mounted at /content/drive\n"
          ]
        }
      ]
    },
    {
      "cell_type": "code",
      "source": [
        "#@title Read data and output top 10 rows\n",
        "path_to_csv = '/content/drive/MyDrive/MajorProject/reddit_data/reddit_data.csv'\n",
        "\n",
        "data = pd.read_csv(path_to_csv)\n",
        "\n",
        "print(len(data))\n",
        "data.head()"
      ],
      "metadata": {
        "colab": {
          "base_uri": "https://localhost:8080/",
          "height": 225
        },
        "id": "jyfN6-tVu4k6",
        "outputId": "2c76fe50-0887-4c51-97e7-5dbe540f0a11",
        "cellView": "form"
      },
      "execution_count": 3,
      "outputs": [
        {
          "output_type": "stream",
          "name": "stdout",
          "text": [
            "14000000\n"
          ]
        },
        {
          "output_type": "execute_result",
          "data": {
            "text/html": [
              "\n",
              "  <div id=\"df-832f2c69-337d-4be0-9ee1-cb2afaace68d\">\n",
              "    <div class=\"colab-df-container\">\n",
              "      <div>\n",
              "<style scoped>\n",
              "    .dataframe tbody tr th:only-of-type {\n",
              "        vertical-align: middle;\n",
              "    }\n",
              "\n",
              "    .dataframe tbody tr th {\n",
              "        vertical-align: top;\n",
              "    }\n",
              "\n",
              "    .dataframe thead th {\n",
              "        text-align: right;\n",
              "    }\n",
              "</style>\n",
              "<table border=\"1\" class=\"dataframe\">\n",
              "  <thead>\n",
              "    <tr style=\"text-align: right;\">\n",
              "      <th></th>\n",
              "      <th>username</th>\n",
              "      <th>subreddit</th>\n",
              "      <th>utc</th>\n",
              "    </tr>\n",
              "  </thead>\n",
              "  <tbody>\n",
              "    <tr>\n",
              "      <th>0</th>\n",
              "      <td>kabanossi</td>\n",
              "      <td>photoshopbattles</td>\n",
              "      <td>1.482748e+09</td>\n",
              "    </tr>\n",
              "    <tr>\n",
              "      <th>1</th>\n",
              "      <td>kabanossi</td>\n",
              "      <td>GetMotivated</td>\n",
              "      <td>1.482748e+09</td>\n",
              "    </tr>\n",
              "    <tr>\n",
              "      <th>2</th>\n",
              "      <td>kabanossi</td>\n",
              "      <td>vmware</td>\n",
              "      <td>1.482748e+09</td>\n",
              "    </tr>\n",
              "    <tr>\n",
              "      <th>3</th>\n",
              "      <td>kabanossi</td>\n",
              "      <td>carporn</td>\n",
              "      <td>1.482748e+09</td>\n",
              "    </tr>\n",
              "    <tr>\n",
              "      <th>4</th>\n",
              "      <td>kabanossi</td>\n",
              "      <td>DIY</td>\n",
              "      <td>1.482747e+09</td>\n",
              "    </tr>\n",
              "  </tbody>\n",
              "</table>\n",
              "</div>\n",
              "      <button class=\"colab-df-convert\" onclick=\"convertToInteractive('df-832f2c69-337d-4be0-9ee1-cb2afaace68d')\"\n",
              "              title=\"Convert this dataframe to an interactive table.\"\n",
              "              style=\"display:none;\">\n",
              "        \n",
              "  <svg xmlns=\"http://www.w3.org/2000/svg\" height=\"24px\"viewBox=\"0 0 24 24\"\n",
              "       width=\"24px\">\n",
              "    <path d=\"M0 0h24v24H0V0z\" fill=\"none\"/>\n",
              "    <path d=\"M18.56 5.44l.94 2.06.94-2.06 2.06-.94-2.06-.94-.94-2.06-.94 2.06-2.06.94zm-11 1L8.5 8.5l.94-2.06 2.06-.94-2.06-.94L8.5 2.5l-.94 2.06-2.06.94zm10 10l.94 2.06.94-2.06 2.06-.94-2.06-.94-.94-2.06-.94 2.06-2.06.94z\"/><path d=\"M17.41 7.96l-1.37-1.37c-.4-.4-.92-.59-1.43-.59-.52 0-1.04.2-1.43.59L10.3 9.45l-7.72 7.72c-.78.78-.78 2.05 0 2.83L4 21.41c.39.39.9.59 1.41.59.51 0 1.02-.2 1.41-.59l7.78-7.78 2.81-2.81c.8-.78.8-2.07 0-2.86zM5.41 20L4 18.59l7.72-7.72 1.47 1.35L5.41 20z\"/>\n",
              "  </svg>\n",
              "      </button>\n",
              "      \n",
              "  <style>\n",
              "    .colab-df-container {\n",
              "      display:flex;\n",
              "      flex-wrap:wrap;\n",
              "      gap: 12px;\n",
              "    }\n",
              "\n",
              "    .colab-df-convert {\n",
              "      background-color: #E8F0FE;\n",
              "      border: none;\n",
              "      border-radius: 50%;\n",
              "      cursor: pointer;\n",
              "      display: none;\n",
              "      fill: #1967D2;\n",
              "      height: 32px;\n",
              "      padding: 0 0 0 0;\n",
              "      width: 32px;\n",
              "    }\n",
              "\n",
              "    .colab-df-convert:hover {\n",
              "      background-color: #E2EBFA;\n",
              "      box-shadow: 0px 1px 2px rgba(60, 64, 67, 0.3), 0px 1px 3px 1px rgba(60, 64, 67, 0.15);\n",
              "      fill: #174EA6;\n",
              "    }\n",
              "\n",
              "    [theme=dark] .colab-df-convert {\n",
              "      background-color: #3B4455;\n",
              "      fill: #D2E3FC;\n",
              "    }\n",
              "\n",
              "    [theme=dark] .colab-df-convert:hover {\n",
              "      background-color: #434B5C;\n",
              "      box-shadow: 0px 1px 3px 1px rgba(0, 0, 0, 0.15);\n",
              "      filter: drop-shadow(0px 1px 2px rgba(0, 0, 0, 0.3));\n",
              "      fill: #FFFFFF;\n",
              "    }\n",
              "  </style>\n",
              "\n",
              "      <script>\n",
              "        const buttonEl =\n",
              "          document.querySelector('#df-832f2c69-337d-4be0-9ee1-cb2afaace68d button.colab-df-convert');\n",
              "        buttonEl.style.display =\n",
              "          google.colab.kernel.accessAllowed ? 'block' : 'none';\n",
              "\n",
              "        async function convertToInteractive(key) {\n",
              "          const element = document.querySelector('#df-832f2c69-337d-4be0-9ee1-cb2afaace68d');\n",
              "          const dataTable =\n",
              "            await google.colab.kernel.invokeFunction('convertToInteractive',\n",
              "                                                     [key], {});\n",
              "          if (!dataTable) return;\n",
              "\n",
              "          const docLinkHtml = 'Like what you see? Visit the ' +\n",
              "            '<a target=\"_blank\" href=https://colab.research.google.com/notebooks/data_table.ipynb>data table notebook</a>'\n",
              "            + ' to learn more about interactive tables.';\n",
              "          element.innerHTML = '';\n",
              "          dataTable['output_type'] = 'display_data';\n",
              "          await google.colab.output.renderOutput(dataTable, element);\n",
              "          const docLink = document.createElement('div');\n",
              "          docLink.innerHTML = docLinkHtml;\n",
              "          element.appendChild(docLink);\n",
              "        }\n",
              "      </script>\n",
              "    </div>\n",
              "  </div>\n",
              "  "
            ],
            "text/plain": [
              "    username         subreddit           utc\n",
              "0  kabanossi  photoshopbattles  1.482748e+09\n",
              "1  kabanossi      GetMotivated  1.482748e+09\n",
              "2  kabanossi            vmware  1.482748e+09\n",
              "3  kabanossi           carporn  1.482748e+09\n",
              "4  kabanossi               DIY  1.482747e+09"
            ]
          },
          "metadata": {},
          "execution_count": 3
        }
      ]
    },
    {
      "cell_type": "markdown",
      "source": [
        "\n",
        "\n",
        "### Github Way\n",
        "\n"
      ],
      "metadata": {
        "id": "ZmMUq1nsuYzQ"
      }
    },
    {
      "cell_type": "code",
      "source": [
        "#@title Clone Git Repo in Session\n",
        "!git clone https://github.com/PragunSaini/MajorProject2022.git"
      ],
      "metadata": {
        "cellView": "form",
        "id": "BbkwcgYEqLyq"
      },
      "execution_count": null,
      "outputs": []
    },
    {
      "cell_type": "code",
      "source": [
        "#@title Read data from Git Repo\n",
        "data_rawUrlGit = 'https://media.githubusercontent.com/media/PragunSaini/MajorProject2022/master/Datasets/reddit_data/reddit_data.csv'\n",
        "data = pd.read_csv(data_rawUrlGit)"
      ],
      "metadata": {
        "id": "B-c1xDpxSnOp",
        "cellView": "form"
      },
      "execution_count": null,
      "outputs": []
    },
    {
      "cell_type": "markdown",
      "source": [
        ""
      ],
      "metadata": {
        "id": "e_BqOwRQBWfI"
      }
    },
    {
      "cell_type": "markdown",
      "source": [
        "## Data Analysis\n",
        "\n",
        "Point 1: each unique user's records are together \n",
        "\n",
        "Point 2: for each user, time in utc is in descending order"
      ],
      "metadata": {
        "id": "eN9Ao2ITBYMr"
      }
    },
    {
      "cell_type": "code",
      "source": [
        "data.head(10)"
      ],
      "metadata": {
        "id": "7jSa7I1LBa1A",
        "outputId": "373f39b8-f27f-4881-cfd6-17e1ecd3e0a3",
        "colab": {
          "base_uri": "https://localhost:8080/",
          "height": 363
        }
      },
      "execution_count": 4,
      "outputs": [
        {
          "output_type": "execute_result",
          "data": {
            "text/html": [
              "\n",
              "  <div id=\"df-867004ed-6eda-40ed-86b6-3ce5e4abdcad\">\n",
              "    <div class=\"colab-df-container\">\n",
              "      <div>\n",
              "<style scoped>\n",
              "    .dataframe tbody tr th:only-of-type {\n",
              "        vertical-align: middle;\n",
              "    }\n",
              "\n",
              "    .dataframe tbody tr th {\n",
              "        vertical-align: top;\n",
              "    }\n",
              "\n",
              "    .dataframe thead th {\n",
              "        text-align: right;\n",
              "    }\n",
              "</style>\n",
              "<table border=\"1\" class=\"dataframe\">\n",
              "  <thead>\n",
              "    <tr style=\"text-align: right;\">\n",
              "      <th></th>\n",
              "      <th>username</th>\n",
              "      <th>subreddit</th>\n",
              "      <th>utc</th>\n",
              "    </tr>\n",
              "  </thead>\n",
              "  <tbody>\n",
              "    <tr>\n",
              "      <th>0</th>\n",
              "      <td>kabanossi</td>\n",
              "      <td>photoshopbattles</td>\n",
              "      <td>1.482748e+09</td>\n",
              "    </tr>\n",
              "    <tr>\n",
              "      <th>1</th>\n",
              "      <td>kabanossi</td>\n",
              "      <td>GetMotivated</td>\n",
              "      <td>1.482748e+09</td>\n",
              "    </tr>\n",
              "    <tr>\n",
              "      <th>2</th>\n",
              "      <td>kabanossi</td>\n",
              "      <td>vmware</td>\n",
              "      <td>1.482748e+09</td>\n",
              "    </tr>\n",
              "    <tr>\n",
              "      <th>3</th>\n",
              "      <td>kabanossi</td>\n",
              "      <td>carporn</td>\n",
              "      <td>1.482748e+09</td>\n",
              "    </tr>\n",
              "    <tr>\n",
              "      <th>4</th>\n",
              "      <td>kabanossi</td>\n",
              "      <td>DIY</td>\n",
              "      <td>1.482747e+09</td>\n",
              "    </tr>\n",
              "    <tr>\n",
              "      <th>5</th>\n",
              "      <td>kabanossi</td>\n",
              "      <td>food</td>\n",
              "      <td>1.482747e+09</td>\n",
              "    </tr>\n",
              "    <tr>\n",
              "      <th>6</th>\n",
              "      <td>kabanossi</td>\n",
              "      <td>CatastrophicFailure</td>\n",
              "      <td>1.482514e+09</td>\n",
              "    </tr>\n",
              "    <tr>\n",
              "      <th>7</th>\n",
              "      <td>kabanossi</td>\n",
              "      <td>photoshopbattles</td>\n",
              "      <td>1.482514e+09</td>\n",
              "    </tr>\n",
              "    <tr>\n",
              "      <th>8</th>\n",
              "      <td>kabanossi</td>\n",
              "      <td>carporn</td>\n",
              "      <td>1.482513e+09</td>\n",
              "    </tr>\n",
              "    <tr>\n",
              "      <th>9</th>\n",
              "      <td>kabanossi</td>\n",
              "      <td>techsupport</td>\n",
              "      <td>1.482513e+09</td>\n",
              "    </tr>\n",
              "  </tbody>\n",
              "</table>\n",
              "</div>\n",
              "      <button class=\"colab-df-convert\" onclick=\"convertToInteractive('df-867004ed-6eda-40ed-86b6-3ce5e4abdcad')\"\n",
              "              title=\"Convert this dataframe to an interactive table.\"\n",
              "              style=\"display:none;\">\n",
              "        \n",
              "  <svg xmlns=\"http://www.w3.org/2000/svg\" height=\"24px\"viewBox=\"0 0 24 24\"\n",
              "       width=\"24px\">\n",
              "    <path d=\"M0 0h24v24H0V0z\" fill=\"none\"/>\n",
              "    <path d=\"M18.56 5.44l.94 2.06.94-2.06 2.06-.94-2.06-.94-.94-2.06-.94 2.06-2.06.94zm-11 1L8.5 8.5l.94-2.06 2.06-.94-2.06-.94L8.5 2.5l-.94 2.06-2.06.94zm10 10l.94 2.06.94-2.06 2.06-.94-2.06-.94-.94-2.06-.94 2.06-2.06.94z\"/><path d=\"M17.41 7.96l-1.37-1.37c-.4-.4-.92-.59-1.43-.59-.52 0-1.04.2-1.43.59L10.3 9.45l-7.72 7.72c-.78.78-.78 2.05 0 2.83L4 21.41c.39.39.9.59 1.41.59.51 0 1.02-.2 1.41-.59l7.78-7.78 2.81-2.81c.8-.78.8-2.07 0-2.86zM5.41 20L4 18.59l7.72-7.72 1.47 1.35L5.41 20z\"/>\n",
              "  </svg>\n",
              "      </button>\n",
              "      \n",
              "  <style>\n",
              "    .colab-df-container {\n",
              "      display:flex;\n",
              "      flex-wrap:wrap;\n",
              "      gap: 12px;\n",
              "    }\n",
              "\n",
              "    .colab-df-convert {\n",
              "      background-color: #E8F0FE;\n",
              "      border: none;\n",
              "      border-radius: 50%;\n",
              "      cursor: pointer;\n",
              "      display: none;\n",
              "      fill: #1967D2;\n",
              "      height: 32px;\n",
              "      padding: 0 0 0 0;\n",
              "      width: 32px;\n",
              "    }\n",
              "\n",
              "    .colab-df-convert:hover {\n",
              "      background-color: #E2EBFA;\n",
              "      box-shadow: 0px 1px 2px rgba(60, 64, 67, 0.3), 0px 1px 3px 1px rgba(60, 64, 67, 0.15);\n",
              "      fill: #174EA6;\n",
              "    }\n",
              "\n",
              "    [theme=dark] .colab-df-convert {\n",
              "      background-color: #3B4455;\n",
              "      fill: #D2E3FC;\n",
              "    }\n",
              "\n",
              "    [theme=dark] .colab-df-convert:hover {\n",
              "      background-color: #434B5C;\n",
              "      box-shadow: 0px 1px 3px 1px rgba(0, 0, 0, 0.15);\n",
              "      filter: drop-shadow(0px 1px 2px rgba(0, 0, 0, 0.3));\n",
              "      fill: #FFFFFF;\n",
              "    }\n",
              "  </style>\n",
              "\n",
              "      <script>\n",
              "        const buttonEl =\n",
              "          document.querySelector('#df-867004ed-6eda-40ed-86b6-3ce5e4abdcad button.colab-df-convert');\n",
              "        buttonEl.style.display =\n",
              "          google.colab.kernel.accessAllowed ? 'block' : 'none';\n",
              "\n",
              "        async function convertToInteractive(key) {\n",
              "          const element = document.querySelector('#df-867004ed-6eda-40ed-86b6-3ce5e4abdcad');\n",
              "          const dataTable =\n",
              "            await google.colab.kernel.invokeFunction('convertToInteractive',\n",
              "                                                     [key], {});\n",
              "          if (!dataTable) return;\n",
              "\n",
              "          const docLinkHtml = 'Like what you see? Visit the ' +\n",
              "            '<a target=\"_blank\" href=https://colab.research.google.com/notebooks/data_table.ipynb>data table notebook</a>'\n",
              "            + ' to learn more about interactive tables.';\n",
              "          element.innerHTML = '';\n",
              "          dataTable['output_type'] = 'display_data';\n",
              "          await google.colab.output.renderOutput(dataTable, element);\n",
              "          const docLink = document.createElement('div');\n",
              "          docLink.innerHTML = docLinkHtml;\n",
              "          element.appendChild(docLink);\n",
              "        }\n",
              "      </script>\n",
              "    </div>\n",
              "  </div>\n",
              "  "
            ],
            "text/plain": [
              "    username            subreddit           utc\n",
              "0  kabanossi     photoshopbattles  1.482748e+09\n",
              "1  kabanossi         GetMotivated  1.482748e+09\n",
              "2  kabanossi               vmware  1.482748e+09\n",
              "3  kabanossi              carporn  1.482748e+09\n",
              "4  kabanossi                  DIY  1.482747e+09\n",
              "5  kabanossi                 food  1.482747e+09\n",
              "6  kabanossi  CatastrophicFailure  1.482514e+09\n",
              "7  kabanossi     photoshopbattles  1.482514e+09\n",
              "8  kabanossi              carporn  1.482513e+09\n",
              "9  kabanossi          techsupport  1.482513e+09"
            ]
          },
          "metadata": {},
          "execution_count": 4
        }
      ]
    },
    {
      "cell_type": "code",
      "source": [
        "print(\"User Count: \" , data['username'].nunique())\n",
        "print(\"Sureddit counts: \" , data['subreddit'].nunique())"
      ],
      "metadata": {
        "colab": {
          "base_uri": "https://localhost:8080/"
        },
        "id": "YIGyaxCpoSH_",
        "outputId": "2b40fa8c-20b9-405e-b334-a4cdd6351afc"
      },
      "execution_count": 5,
      "outputs": [
        {
          "output_type": "stream",
          "name": "stdout",
          "text": [
            "User Count:  22610\n",
            "Sureddit counts:  34967\n"
          ]
        }
      ]
    },
    {
      "cell_type": "code",
      "source": [
        "frequency_sr_df = data['subreddit'].value_counts().rename_axis('unique_redd').reset_index(name='counts')\n",
        "frequency_sr_df.head()"
      ],
      "metadata": {
        "colab": {
          "base_uri": "https://localhost:8080/",
          "height": 206
        },
        "id": "l_4huJUXgdyF",
        "outputId": "a38b75b3-cdce-44fe-9a80-748cfd2a9c5f"
      },
      "execution_count": 6,
      "outputs": [
        {
          "output_type": "execute_result",
          "data": {
            "text/html": [
              "\n",
              "  <div id=\"df-0ced7c83-4be1-4ef3-ac52-8c38f6e18ead\">\n",
              "    <div class=\"colab-df-container\">\n",
              "      <div>\n",
              "<style scoped>\n",
              "    .dataframe tbody tr th:only-of-type {\n",
              "        vertical-align: middle;\n",
              "    }\n",
              "\n",
              "    .dataframe tbody tr th {\n",
              "        vertical-align: top;\n",
              "    }\n",
              "\n",
              "    .dataframe thead th {\n",
              "        text-align: right;\n",
              "    }\n",
              "</style>\n",
              "<table border=\"1\" class=\"dataframe\">\n",
              "  <thead>\n",
              "    <tr style=\"text-align: right;\">\n",
              "      <th></th>\n",
              "      <th>unique_redd</th>\n",
              "      <th>counts</th>\n",
              "    </tr>\n",
              "  </thead>\n",
              "  <tbody>\n",
              "    <tr>\n",
              "      <th>0</th>\n",
              "      <td>AskReddit</td>\n",
              "      <td>1030290</td>\n",
              "    </tr>\n",
              "    <tr>\n",
              "      <th>1</th>\n",
              "      <td>politics</td>\n",
              "      <td>367860</td>\n",
              "    </tr>\n",
              "    <tr>\n",
              "      <th>2</th>\n",
              "      <td>The_Donald</td>\n",
              "      <td>216939</td>\n",
              "    </tr>\n",
              "    <tr>\n",
              "      <th>3</th>\n",
              "      <td>nfl</td>\n",
              "      <td>173883</td>\n",
              "    </tr>\n",
              "    <tr>\n",
              "      <th>4</th>\n",
              "      <td>leagueoflegends</td>\n",
              "      <td>157663</td>\n",
              "    </tr>\n",
              "  </tbody>\n",
              "</table>\n",
              "</div>\n",
              "      <button class=\"colab-df-convert\" onclick=\"convertToInteractive('df-0ced7c83-4be1-4ef3-ac52-8c38f6e18ead')\"\n",
              "              title=\"Convert this dataframe to an interactive table.\"\n",
              "              style=\"display:none;\">\n",
              "        \n",
              "  <svg xmlns=\"http://www.w3.org/2000/svg\" height=\"24px\"viewBox=\"0 0 24 24\"\n",
              "       width=\"24px\">\n",
              "    <path d=\"M0 0h24v24H0V0z\" fill=\"none\"/>\n",
              "    <path d=\"M18.56 5.44l.94 2.06.94-2.06 2.06-.94-2.06-.94-.94-2.06-.94 2.06-2.06.94zm-11 1L8.5 8.5l.94-2.06 2.06-.94-2.06-.94L8.5 2.5l-.94 2.06-2.06.94zm10 10l.94 2.06.94-2.06 2.06-.94-2.06-.94-.94-2.06-.94 2.06-2.06.94z\"/><path d=\"M17.41 7.96l-1.37-1.37c-.4-.4-.92-.59-1.43-.59-.52 0-1.04.2-1.43.59L10.3 9.45l-7.72 7.72c-.78.78-.78 2.05 0 2.83L4 21.41c.39.39.9.59 1.41.59.51 0 1.02-.2 1.41-.59l7.78-7.78 2.81-2.81c.8-.78.8-2.07 0-2.86zM5.41 20L4 18.59l7.72-7.72 1.47 1.35L5.41 20z\"/>\n",
              "  </svg>\n",
              "      </button>\n",
              "      \n",
              "  <style>\n",
              "    .colab-df-container {\n",
              "      display:flex;\n",
              "      flex-wrap:wrap;\n",
              "      gap: 12px;\n",
              "    }\n",
              "\n",
              "    .colab-df-convert {\n",
              "      background-color: #E8F0FE;\n",
              "      border: none;\n",
              "      border-radius: 50%;\n",
              "      cursor: pointer;\n",
              "      display: none;\n",
              "      fill: #1967D2;\n",
              "      height: 32px;\n",
              "      padding: 0 0 0 0;\n",
              "      width: 32px;\n",
              "    }\n",
              "\n",
              "    .colab-df-convert:hover {\n",
              "      background-color: #E2EBFA;\n",
              "      box-shadow: 0px 1px 2px rgba(60, 64, 67, 0.3), 0px 1px 3px 1px rgba(60, 64, 67, 0.15);\n",
              "      fill: #174EA6;\n",
              "    }\n",
              "\n",
              "    [theme=dark] .colab-df-convert {\n",
              "      background-color: #3B4455;\n",
              "      fill: #D2E3FC;\n",
              "    }\n",
              "\n",
              "    [theme=dark] .colab-df-convert:hover {\n",
              "      background-color: #434B5C;\n",
              "      box-shadow: 0px 1px 3px 1px rgba(0, 0, 0, 0.15);\n",
              "      filter: drop-shadow(0px 1px 2px rgba(0, 0, 0, 0.3));\n",
              "      fill: #FFFFFF;\n",
              "    }\n",
              "  </style>\n",
              "\n",
              "      <script>\n",
              "        const buttonEl =\n",
              "          document.querySelector('#df-0ced7c83-4be1-4ef3-ac52-8c38f6e18ead button.colab-df-convert');\n",
              "        buttonEl.style.display =\n",
              "          google.colab.kernel.accessAllowed ? 'block' : 'none';\n",
              "\n",
              "        async function convertToInteractive(key) {\n",
              "          const element = document.querySelector('#df-0ced7c83-4be1-4ef3-ac52-8c38f6e18ead');\n",
              "          const dataTable =\n",
              "            await google.colab.kernel.invokeFunction('convertToInteractive',\n",
              "                                                     [key], {});\n",
              "          if (!dataTable) return;\n",
              "\n",
              "          const docLinkHtml = 'Like what you see? Visit the ' +\n",
              "            '<a target=\"_blank\" href=https://colab.research.google.com/notebooks/data_table.ipynb>data table notebook</a>'\n",
              "            + ' to learn more about interactive tables.';\n",
              "          element.innerHTML = '';\n",
              "          dataTable['output_type'] = 'display_data';\n",
              "          await google.colab.output.renderOutput(dataTable, element);\n",
              "          const docLink = document.createElement('div');\n",
              "          docLink.innerHTML = docLinkHtml;\n",
              "          element.appendChild(docLink);\n",
              "        }\n",
              "      </script>\n",
              "    </div>\n",
              "  </div>\n",
              "  "
            ],
            "text/plain": [
              "       unique_redd   counts\n",
              "0        AskReddit  1030290\n",
              "1         politics   367860\n",
              "2       The_Donald   216939\n",
              "3              nfl   173883\n",
              "4  leagueoflegends   157663"
            ]
          },
          "metadata": {},
          "execution_count": 6
        }
      ]
    },
    {
      "cell_type": "code",
      "source": [
        "frequency_users_df = data['username'].value_counts().rename_axis('unique_users').reset_index(name='counts')\n",
        "frequency_users_df.head(5)"
      ],
      "metadata": {
        "id": "QDpm_oQPhMDR",
        "outputId": "7be42852-b72e-4f19-cf1d-25549dfc31f3",
        "colab": {
          "base_uri": "https://localhost:8080/",
          "height": 206
        }
      },
      "execution_count": 7,
      "outputs": [
        {
          "output_type": "execute_result",
          "data": {
            "text/html": [
              "\n",
              "  <div id=\"df-e0b1f1cd-ad36-43e3-bfda-b038f1dce3d7\">\n",
              "    <div class=\"colab-df-container\">\n",
              "      <div>\n",
              "<style scoped>\n",
              "    .dataframe tbody tr th:only-of-type {\n",
              "        vertical-align: middle;\n",
              "    }\n",
              "\n",
              "    .dataframe tbody tr th {\n",
              "        vertical-align: top;\n",
              "    }\n",
              "\n",
              "    .dataframe thead th {\n",
              "        text-align: right;\n",
              "    }\n",
              "</style>\n",
              "<table border=\"1\" class=\"dataframe\">\n",
              "  <thead>\n",
              "    <tr style=\"text-align: right;\">\n",
              "      <th></th>\n",
              "      <th>unique_users</th>\n",
              "      <th>counts</th>\n",
              "    </tr>\n",
              "  </thead>\n",
              "  <tbody>\n",
              "    <tr>\n",
              "      <th>0</th>\n",
              "      <td>LostAccountant</td>\n",
              "      <td>1000</td>\n",
              "    </tr>\n",
              "    <tr>\n",
              "      <th>1</th>\n",
              "      <td>bakitbakitba</td>\n",
              "      <td>1000</td>\n",
              "    </tr>\n",
              "    <tr>\n",
              "      <th>2</th>\n",
              "      <td>Neres28</td>\n",
              "      <td>1000</td>\n",
              "    </tr>\n",
              "    <tr>\n",
              "      <th>3</th>\n",
              "      <td>rainbowgeoff</td>\n",
              "      <td>1000</td>\n",
              "    </tr>\n",
              "    <tr>\n",
              "      <th>4</th>\n",
              "      <td>cosmiccrystalponies</td>\n",
              "      <td>1000</td>\n",
              "    </tr>\n",
              "  </tbody>\n",
              "</table>\n",
              "</div>\n",
              "      <button class=\"colab-df-convert\" onclick=\"convertToInteractive('df-e0b1f1cd-ad36-43e3-bfda-b038f1dce3d7')\"\n",
              "              title=\"Convert this dataframe to an interactive table.\"\n",
              "              style=\"display:none;\">\n",
              "        \n",
              "  <svg xmlns=\"http://www.w3.org/2000/svg\" height=\"24px\"viewBox=\"0 0 24 24\"\n",
              "       width=\"24px\">\n",
              "    <path d=\"M0 0h24v24H0V0z\" fill=\"none\"/>\n",
              "    <path d=\"M18.56 5.44l.94 2.06.94-2.06 2.06-.94-2.06-.94-.94-2.06-.94 2.06-2.06.94zm-11 1L8.5 8.5l.94-2.06 2.06-.94-2.06-.94L8.5 2.5l-.94 2.06-2.06.94zm10 10l.94 2.06.94-2.06 2.06-.94-2.06-.94-.94-2.06-.94 2.06-2.06.94z\"/><path d=\"M17.41 7.96l-1.37-1.37c-.4-.4-.92-.59-1.43-.59-.52 0-1.04.2-1.43.59L10.3 9.45l-7.72 7.72c-.78.78-.78 2.05 0 2.83L4 21.41c.39.39.9.59 1.41.59.51 0 1.02-.2 1.41-.59l7.78-7.78 2.81-2.81c.8-.78.8-2.07 0-2.86zM5.41 20L4 18.59l7.72-7.72 1.47 1.35L5.41 20z\"/>\n",
              "  </svg>\n",
              "      </button>\n",
              "      \n",
              "  <style>\n",
              "    .colab-df-container {\n",
              "      display:flex;\n",
              "      flex-wrap:wrap;\n",
              "      gap: 12px;\n",
              "    }\n",
              "\n",
              "    .colab-df-convert {\n",
              "      background-color: #E8F0FE;\n",
              "      border: none;\n",
              "      border-radius: 50%;\n",
              "      cursor: pointer;\n",
              "      display: none;\n",
              "      fill: #1967D2;\n",
              "      height: 32px;\n",
              "      padding: 0 0 0 0;\n",
              "      width: 32px;\n",
              "    }\n",
              "\n",
              "    .colab-df-convert:hover {\n",
              "      background-color: #E2EBFA;\n",
              "      box-shadow: 0px 1px 2px rgba(60, 64, 67, 0.3), 0px 1px 3px 1px rgba(60, 64, 67, 0.15);\n",
              "      fill: #174EA6;\n",
              "    }\n",
              "\n",
              "    [theme=dark] .colab-df-convert {\n",
              "      background-color: #3B4455;\n",
              "      fill: #D2E3FC;\n",
              "    }\n",
              "\n",
              "    [theme=dark] .colab-df-convert:hover {\n",
              "      background-color: #434B5C;\n",
              "      box-shadow: 0px 1px 3px 1px rgba(0, 0, 0, 0.15);\n",
              "      filter: drop-shadow(0px 1px 2px rgba(0, 0, 0, 0.3));\n",
              "      fill: #FFFFFF;\n",
              "    }\n",
              "  </style>\n",
              "\n",
              "      <script>\n",
              "        const buttonEl =\n",
              "          document.querySelector('#df-e0b1f1cd-ad36-43e3-bfda-b038f1dce3d7 button.colab-df-convert');\n",
              "        buttonEl.style.display =\n",
              "          google.colab.kernel.accessAllowed ? 'block' : 'none';\n",
              "\n",
              "        async function convertToInteractive(key) {\n",
              "          const element = document.querySelector('#df-e0b1f1cd-ad36-43e3-bfda-b038f1dce3d7');\n",
              "          const dataTable =\n",
              "            await google.colab.kernel.invokeFunction('convertToInteractive',\n",
              "                                                     [key], {});\n",
              "          if (!dataTable) return;\n",
              "\n",
              "          const docLinkHtml = 'Like what you see? Visit the ' +\n",
              "            '<a target=\"_blank\" href=https://colab.research.google.com/notebooks/data_table.ipynb>data table notebook</a>'\n",
              "            + ' to learn more about interactive tables.';\n",
              "          element.innerHTML = '';\n",
              "          dataTable['output_type'] = 'display_data';\n",
              "          await google.colab.output.renderOutput(dataTable, element);\n",
              "          const docLink = document.createElement('div');\n",
              "          docLink.innerHTML = docLinkHtml;\n",
              "          element.appendChild(docLink);\n",
              "        }\n",
              "      </script>\n",
              "    </div>\n",
              "  </div>\n",
              "  "
            ],
            "text/plain": [
              "          unique_users  counts\n",
              "0       LostAccountant    1000\n",
              "1         bakitbakitba    1000\n",
              "2              Neres28    1000\n",
              "3         rainbowgeoff    1000\n",
              "4  cosmiccrystalponies    1000"
            ]
          },
          "metadata": {},
          "execution_count": 7
        }
      ]
    },
    {
      "cell_type": "markdown",
      "source": [
        "## Data Preprocessing"
      ],
      "metadata": {
        "id": "QgunZB-7HFgQ"
      }
    },
    {
      "cell_type": "markdown",
      "source": [
        "### Removing users with frequency less than a Minimum_Frequency_Factor\n",
        "\n",
        "**Rules for preprocessing dataset:**\n",
        "\n",
        "1. Dataset format : [index, user, item, timestamp]\n",
        "2. Sort by users and timestamps\n",
        "3. Remove users or items with less than 10 occurances\n",
        "4. Parse dataset into user -> array(sessions) format and session -> array((timestamp, item))\n",
        "5. Interactions within 3600 seconds are in same session\n",
        "6. Remove item repitions in the same session\n",
        "7. Remove sessions that have 1 item only or too many items (here > 40)\n",
        "8. Split sessions further if possible using max session size 20 and min session size 1\n",
        "9. Remove users with less data (ex. having < 3 sessions)\n",
        "10. Map user and item values to sequential labels for further usage"
      ],
      "metadata": {
        "id": "xx8zh1uGjXF6"
      }
    },
    {
      "cell_type": "markdown",
      "source": [
        "**Removing subreddits that have frequency < 10**\n"
      ],
      "metadata": {
        "id": "zCOnMxvypR8n"
      }
    },
    {
      "cell_type": "code",
      "source": [
        "frequency_sr_df = data['subreddit'].value_counts()\n",
        "data_subredditRemoval = data[~data['subreddit'].isin(frequency_sr_df[frequency_sr_df < 10].index)]"
      ],
      "metadata": {
        "id": "sjfEgHG2pGhD"
      },
      "execution_count": 23,
      "outputs": []
    },
    {
      "cell_type": "markdown",
      "source": [
        "\n",
        "**Removing users with frequency < 10**"
      ],
      "metadata": {
        "id": "2s0nTmSwHTcH"
      }
    },
    {
      "cell_type": "code",
      "source": [
        "frequency_user_df = data_subredditRemoval['username'].value_counts()\n",
        "Final_Data = data_subredditRemoval[~data_subredditRemoval['username'].isin(frequency_user_df[frequency_user_df < 10].index)]"
      ],
      "metadata": {
        "id": "1AH_2aycpD8s"
      },
      "execution_count": 24,
      "outputs": []
    },
    {
      "cell_type": "code",
      "source": [
        "Final_Data.head()"
      ],
      "metadata": {
        "colab": {
          "base_uri": "https://localhost:8080/",
          "height": 206
        },
        "id": "5COkfCXnqDSM",
        "outputId": "171d806f-7852-4cb8-aca6-0115598314d1"
      },
      "execution_count": 25,
      "outputs": [
        {
          "output_type": "execute_result",
          "data": {
            "text/html": [
              "\n",
              "  <div id=\"df-fa725492-7452-410f-9543-7a24dbab82dc\">\n",
              "    <div class=\"colab-df-container\">\n",
              "      <div>\n",
              "<style scoped>\n",
              "    .dataframe tbody tr th:only-of-type {\n",
              "        vertical-align: middle;\n",
              "    }\n",
              "\n",
              "    .dataframe tbody tr th {\n",
              "        vertical-align: top;\n",
              "    }\n",
              "\n",
              "    .dataframe thead th {\n",
              "        text-align: right;\n",
              "    }\n",
              "</style>\n",
              "<table border=\"1\" class=\"dataframe\">\n",
              "  <thead>\n",
              "    <tr style=\"text-align: right;\">\n",
              "      <th></th>\n",
              "      <th>username</th>\n",
              "      <th>subreddit</th>\n",
              "      <th>utc</th>\n",
              "    </tr>\n",
              "  </thead>\n",
              "  <tbody>\n",
              "    <tr>\n",
              "      <th>0</th>\n",
              "      <td>kabanossi</td>\n",
              "      <td>photoshopbattles</td>\n",
              "      <td>1.482748e+09</td>\n",
              "    </tr>\n",
              "    <tr>\n",
              "      <th>1</th>\n",
              "      <td>kabanossi</td>\n",
              "      <td>GetMotivated</td>\n",
              "      <td>1.482748e+09</td>\n",
              "    </tr>\n",
              "    <tr>\n",
              "      <th>2</th>\n",
              "      <td>kabanossi</td>\n",
              "      <td>vmware</td>\n",
              "      <td>1.482748e+09</td>\n",
              "    </tr>\n",
              "    <tr>\n",
              "      <th>3</th>\n",
              "      <td>kabanossi</td>\n",
              "      <td>carporn</td>\n",
              "      <td>1.482748e+09</td>\n",
              "    </tr>\n",
              "    <tr>\n",
              "      <th>4</th>\n",
              "      <td>kabanossi</td>\n",
              "      <td>DIY</td>\n",
              "      <td>1.482747e+09</td>\n",
              "    </tr>\n",
              "  </tbody>\n",
              "</table>\n",
              "</div>\n",
              "      <button class=\"colab-df-convert\" onclick=\"convertToInteractive('df-fa725492-7452-410f-9543-7a24dbab82dc')\"\n",
              "              title=\"Convert this dataframe to an interactive table.\"\n",
              "              style=\"display:none;\">\n",
              "        \n",
              "  <svg xmlns=\"http://www.w3.org/2000/svg\" height=\"24px\"viewBox=\"0 0 24 24\"\n",
              "       width=\"24px\">\n",
              "    <path d=\"M0 0h24v24H0V0z\" fill=\"none\"/>\n",
              "    <path d=\"M18.56 5.44l.94 2.06.94-2.06 2.06-.94-2.06-.94-.94-2.06-.94 2.06-2.06.94zm-11 1L8.5 8.5l.94-2.06 2.06-.94-2.06-.94L8.5 2.5l-.94 2.06-2.06.94zm10 10l.94 2.06.94-2.06 2.06-.94-2.06-.94-.94-2.06-.94 2.06-2.06.94z\"/><path d=\"M17.41 7.96l-1.37-1.37c-.4-.4-.92-.59-1.43-.59-.52 0-1.04.2-1.43.59L10.3 9.45l-7.72 7.72c-.78.78-.78 2.05 0 2.83L4 21.41c.39.39.9.59 1.41.59.51 0 1.02-.2 1.41-.59l7.78-7.78 2.81-2.81c.8-.78.8-2.07 0-2.86zM5.41 20L4 18.59l7.72-7.72 1.47 1.35L5.41 20z\"/>\n",
              "  </svg>\n",
              "      </button>\n",
              "      \n",
              "  <style>\n",
              "    .colab-df-container {\n",
              "      display:flex;\n",
              "      flex-wrap:wrap;\n",
              "      gap: 12px;\n",
              "    }\n",
              "\n",
              "    .colab-df-convert {\n",
              "      background-color: #E8F0FE;\n",
              "      border: none;\n",
              "      border-radius: 50%;\n",
              "      cursor: pointer;\n",
              "      display: none;\n",
              "      fill: #1967D2;\n",
              "      height: 32px;\n",
              "      padding: 0 0 0 0;\n",
              "      width: 32px;\n",
              "    }\n",
              "\n",
              "    .colab-df-convert:hover {\n",
              "      background-color: #E2EBFA;\n",
              "      box-shadow: 0px 1px 2px rgba(60, 64, 67, 0.3), 0px 1px 3px 1px rgba(60, 64, 67, 0.15);\n",
              "      fill: #174EA6;\n",
              "    }\n",
              "\n",
              "    [theme=dark] .colab-df-convert {\n",
              "      background-color: #3B4455;\n",
              "      fill: #D2E3FC;\n",
              "    }\n",
              "\n",
              "    [theme=dark] .colab-df-convert:hover {\n",
              "      background-color: #434B5C;\n",
              "      box-shadow: 0px 1px 3px 1px rgba(0, 0, 0, 0.15);\n",
              "      filter: drop-shadow(0px 1px 2px rgba(0, 0, 0, 0.3));\n",
              "      fill: #FFFFFF;\n",
              "    }\n",
              "  </style>\n",
              "\n",
              "      <script>\n",
              "        const buttonEl =\n",
              "          document.querySelector('#df-fa725492-7452-410f-9543-7a24dbab82dc button.colab-df-convert');\n",
              "        buttonEl.style.display =\n",
              "          google.colab.kernel.accessAllowed ? 'block' : 'none';\n",
              "\n",
              "        async function convertToInteractive(key) {\n",
              "          const element = document.querySelector('#df-fa725492-7452-410f-9543-7a24dbab82dc');\n",
              "          const dataTable =\n",
              "            await google.colab.kernel.invokeFunction('convertToInteractive',\n",
              "                                                     [key], {});\n",
              "          if (!dataTable) return;\n",
              "\n",
              "          const docLinkHtml = 'Like what you see? Visit the ' +\n",
              "            '<a target=\"_blank\" href=https://colab.research.google.com/notebooks/data_table.ipynb>data table notebook</a>'\n",
              "            + ' to learn more about interactive tables.';\n",
              "          element.innerHTML = '';\n",
              "          dataTable['output_type'] = 'display_data';\n",
              "          await google.colab.output.renderOutput(dataTable, element);\n",
              "          const docLink = document.createElement('div');\n",
              "          docLink.innerHTML = docLinkHtml;\n",
              "          element.appendChild(docLink);\n",
              "        }\n",
              "      </script>\n",
              "    </div>\n",
              "  </div>\n",
              "  "
            ],
            "text/plain": [
              "    username         subreddit           utc\n",
              "0  kabanossi  photoshopbattles  1.482748e+09\n",
              "1  kabanossi      GetMotivated  1.482748e+09\n",
              "2  kabanossi            vmware  1.482748e+09\n",
              "3  kabanossi           carporn  1.482748e+09\n",
              "4  kabanossi               DIY  1.482747e+09"
            ]
          },
          "metadata": {},
          "execution_count": 25
        }
      ]
    },
    {
      "cell_type": "code",
      "source": [
        "print(f\"No of users : {len(Final_Data['username'].unique())}\")\n",
        "print(f\"No of items : {len(Final_Data['subreddit'].unique())}\")\n",
        "print(f\"No of events : {len(Final_Data)}\")"
      ],
      "metadata": {
        "colab": {
          "base_uri": "https://localhost:8080/"
        },
        "id": "Eta-MetMpi0k",
        "outputId": "5dda9fce-8762-488e-9c7f-31db20b585b4"
      },
      "execution_count": 26,
      "outputs": [
        {
          "output_type": "stream",
          "name": "stdout",
          "text": [
            "No of users : 21742\n",
            "No of items : 13937\n",
            "No of events : 13937354\n"
          ]
        }
      ]
    },
    {
      "cell_type": "code",
      "source": [
        "Final_Data['utc'] = pd.to_datetime(Final_Data['utc'], unit='s')\n",
        "Final_sortedData = Final_Data.sort_values(by=[\"username\", \"utc\"] , ignore_index = True)\n",
        "Final_sortedData.head(10)"
      ],
      "metadata": {
        "colab": {
          "base_uri": "https://localhost:8080/",
          "height": 474
        },
        "id": "7WAMC80Rqt-J",
        "outputId": "56645eed-871e-4e99-fdf4-ac71f469214f"
      },
      "execution_count": 27,
      "outputs": [
        {
          "output_type": "stream",
          "name": "stderr",
          "text": [
            "/usr/local/lib/python3.7/dist-packages/ipykernel_launcher.py:1: SettingWithCopyWarning: \n",
            "A value is trying to be set on a copy of a slice from a DataFrame.\n",
            "Try using .loc[row_indexer,col_indexer] = value instead\n",
            "\n",
            "See the caveats in the documentation: https://pandas.pydata.org/pandas-docs/stable/user_guide/indexing.html#returning-a-view-versus-a-copy\n",
            "  \"\"\"Entry point for launching an IPython kernel.\n"
          ]
        },
        {
          "output_type": "execute_result",
          "data": {
            "text/html": [
              "\n",
              "  <div id=\"df-2f8984d9-09a2-41da-aa32-c66f0246ceca\">\n",
              "    <div class=\"colab-df-container\">\n",
              "      <div>\n",
              "<style scoped>\n",
              "    .dataframe tbody tr th:only-of-type {\n",
              "        vertical-align: middle;\n",
              "    }\n",
              "\n",
              "    .dataframe tbody tr th {\n",
              "        vertical-align: top;\n",
              "    }\n",
              "\n",
              "    .dataframe thead th {\n",
              "        text-align: right;\n",
              "    }\n",
              "</style>\n",
              "<table border=\"1\" class=\"dataframe\">\n",
              "  <thead>\n",
              "    <tr style=\"text-align: right;\">\n",
              "      <th></th>\n",
              "      <th>username</th>\n",
              "      <th>subreddit</th>\n",
              "      <th>utc</th>\n",
              "    </tr>\n",
              "  </thead>\n",
              "  <tbody>\n",
              "    <tr>\n",
              "      <th>0</th>\n",
              "      <td>--ANUSTART-</td>\n",
              "      <td>news</td>\n",
              "      <td>2015-12-29 17:43:17</td>\n",
              "    </tr>\n",
              "    <tr>\n",
              "      <th>1</th>\n",
              "      <td>--ANUSTART-</td>\n",
              "      <td>news</td>\n",
              "      <td>2015-12-29 18:35:49</td>\n",
              "    </tr>\n",
              "    <tr>\n",
              "      <th>2</th>\n",
              "      <td>--ANUSTART-</td>\n",
              "      <td>AdviceAnimals</td>\n",
              "      <td>2015-12-30 15:54:03</td>\n",
              "    </tr>\n",
              "    <tr>\n",
              "      <th>3</th>\n",
              "      <td>--ANUSTART-</td>\n",
              "      <td>AskReddit</td>\n",
              "      <td>2015-12-30 16:19:23</td>\n",
              "    </tr>\n",
              "    <tr>\n",
              "      <th>4</th>\n",
              "      <td>--ANUSTART-</td>\n",
              "      <td>explainlikeimfive</td>\n",
              "      <td>2015-12-30 16:39:05</td>\n",
              "    </tr>\n",
              "    <tr>\n",
              "      <th>5</th>\n",
              "      <td>--ANUSTART-</td>\n",
              "      <td>Documentaries</td>\n",
              "      <td>2015-12-31 16:25:46</td>\n",
              "    </tr>\n",
              "    <tr>\n",
              "      <th>6</th>\n",
              "      <td>--ANUSTART-</td>\n",
              "      <td>Showerthoughts</td>\n",
              "      <td>2015-12-31 17:20:29</td>\n",
              "    </tr>\n",
              "    <tr>\n",
              "      <th>7</th>\n",
              "      <td>--ANUSTART-</td>\n",
              "      <td>AskReddit</td>\n",
              "      <td>2015-12-31 17:47:43</td>\n",
              "    </tr>\n",
              "    <tr>\n",
              "      <th>8</th>\n",
              "      <td>--ANUSTART-</td>\n",
              "      <td>sanantonio</td>\n",
              "      <td>2015-12-31 19:14:58</td>\n",
              "    </tr>\n",
              "    <tr>\n",
              "      <th>9</th>\n",
              "      <td>--ANUSTART-</td>\n",
              "      <td>gaming</td>\n",
              "      <td>2016-01-02 00:32:33</td>\n",
              "    </tr>\n",
              "  </tbody>\n",
              "</table>\n",
              "</div>\n",
              "      <button class=\"colab-df-convert\" onclick=\"convertToInteractive('df-2f8984d9-09a2-41da-aa32-c66f0246ceca')\"\n",
              "              title=\"Convert this dataframe to an interactive table.\"\n",
              "              style=\"display:none;\">\n",
              "        \n",
              "  <svg xmlns=\"http://www.w3.org/2000/svg\" height=\"24px\"viewBox=\"0 0 24 24\"\n",
              "       width=\"24px\">\n",
              "    <path d=\"M0 0h24v24H0V0z\" fill=\"none\"/>\n",
              "    <path d=\"M18.56 5.44l.94 2.06.94-2.06 2.06-.94-2.06-.94-.94-2.06-.94 2.06-2.06.94zm-11 1L8.5 8.5l.94-2.06 2.06-.94-2.06-.94L8.5 2.5l-.94 2.06-2.06.94zm10 10l.94 2.06.94-2.06 2.06-.94-2.06-.94-.94-2.06-.94 2.06-2.06.94z\"/><path d=\"M17.41 7.96l-1.37-1.37c-.4-.4-.92-.59-1.43-.59-.52 0-1.04.2-1.43.59L10.3 9.45l-7.72 7.72c-.78.78-.78 2.05 0 2.83L4 21.41c.39.39.9.59 1.41.59.51 0 1.02-.2 1.41-.59l7.78-7.78 2.81-2.81c.8-.78.8-2.07 0-2.86zM5.41 20L4 18.59l7.72-7.72 1.47 1.35L5.41 20z\"/>\n",
              "  </svg>\n",
              "      </button>\n",
              "      \n",
              "  <style>\n",
              "    .colab-df-container {\n",
              "      display:flex;\n",
              "      flex-wrap:wrap;\n",
              "      gap: 12px;\n",
              "    }\n",
              "\n",
              "    .colab-df-convert {\n",
              "      background-color: #E8F0FE;\n",
              "      border: none;\n",
              "      border-radius: 50%;\n",
              "      cursor: pointer;\n",
              "      display: none;\n",
              "      fill: #1967D2;\n",
              "      height: 32px;\n",
              "      padding: 0 0 0 0;\n",
              "      width: 32px;\n",
              "    }\n",
              "\n",
              "    .colab-df-convert:hover {\n",
              "      background-color: #E2EBFA;\n",
              "      box-shadow: 0px 1px 2px rgba(60, 64, 67, 0.3), 0px 1px 3px 1px rgba(60, 64, 67, 0.15);\n",
              "      fill: #174EA6;\n",
              "    }\n",
              "\n",
              "    [theme=dark] .colab-df-convert {\n",
              "      background-color: #3B4455;\n",
              "      fill: #D2E3FC;\n",
              "    }\n",
              "\n",
              "    [theme=dark] .colab-df-convert:hover {\n",
              "      background-color: #434B5C;\n",
              "      box-shadow: 0px 1px 3px 1px rgba(0, 0, 0, 0.15);\n",
              "      filter: drop-shadow(0px 1px 2px rgba(0, 0, 0, 0.3));\n",
              "      fill: #FFFFFF;\n",
              "    }\n",
              "  </style>\n",
              "\n",
              "      <script>\n",
              "        const buttonEl =\n",
              "          document.querySelector('#df-2f8984d9-09a2-41da-aa32-c66f0246ceca button.colab-df-convert');\n",
              "        buttonEl.style.display =\n",
              "          google.colab.kernel.accessAllowed ? 'block' : 'none';\n",
              "\n",
              "        async function convertToInteractive(key) {\n",
              "          const element = document.querySelector('#df-2f8984d9-09a2-41da-aa32-c66f0246ceca');\n",
              "          const dataTable =\n",
              "            await google.colab.kernel.invokeFunction('convertToInteractive',\n",
              "                                                     [key], {});\n",
              "          if (!dataTable) return;\n",
              "\n",
              "          const docLinkHtml = 'Like what you see? Visit the ' +\n",
              "            '<a target=\"_blank\" href=https://colab.research.google.com/notebooks/data_table.ipynb>data table notebook</a>'\n",
              "            + ' to learn more about interactive tables.';\n",
              "          element.innerHTML = '';\n",
              "          dataTable['output_type'] = 'display_data';\n",
              "          await google.colab.output.renderOutput(dataTable, element);\n",
              "          const docLink = document.createElement('div');\n",
              "          docLink.innerHTML = docLinkHtml;\n",
              "          element.appendChild(docLink);\n",
              "        }\n",
              "      </script>\n",
              "    </div>\n",
              "  </div>\n",
              "  "
            ],
            "text/plain": [
              "      username          subreddit                 utc\n",
              "0  --ANUSTART-               news 2015-12-29 17:43:17\n",
              "1  --ANUSTART-               news 2015-12-29 18:35:49\n",
              "2  --ANUSTART-      AdviceAnimals 2015-12-30 15:54:03\n",
              "3  --ANUSTART-          AskReddit 2015-12-30 16:19:23\n",
              "4  --ANUSTART-  explainlikeimfive 2015-12-30 16:39:05\n",
              "5  --ANUSTART-      Documentaries 2015-12-31 16:25:46\n",
              "6  --ANUSTART-     Showerthoughts 2015-12-31 17:20:29\n",
              "7  --ANUSTART-          AskReddit 2015-12-31 17:47:43\n",
              "8  --ANUSTART-         sanantonio 2015-12-31 19:14:58\n",
              "9  --ANUSTART-             gaming 2016-01-02 00:32:33"
            ]
          },
          "metadata": {},
          "execution_count": 27
        }
      ]
    },
    {
      "cell_type": "markdown",
      "source": [
        "### Setting up data with user's session details\n",
        "\n",
        "\n",
        "\n"
      ],
      "metadata": {
        "id": "ykoYfkavnNV-"
      }
    },
    {
      "cell_type": "code",
      "source": [
        "# Final_sortedData = pd.read_csv('/content/drive/MyDrive/MajorProject/SortedData_Reddit.csv')"
      ],
      "metadata": {
        "id": "J2araky864I8"
      },
      "execution_count": 3,
      "outputs": []
    },
    {
      "cell_type": "code",
      "source": [
        "# preprocessing variables\n",
        "SESSION_TIME = timedelta(seconds=60*60)\n",
        "MAX_SESSION_LENGTH = 20\n",
        "MIN_REQUIRED_SESSIONS = 3\n",
        "MIN_ITEM_SUPPORT = 10"
      ],
      "metadata": {
        "id": "Or_URNeqBygD"
      },
      "execution_count": 40,
      "outputs": []
    },
    {
      "cell_type": "code",
      "source": [
        "#@title **Methods to split dataset into User Sessions according to preprocessing rules**\n",
        "# session -> list of sessions in format (utc, tag)\n",
        "def collapse_session(session):\n",
        "  new_session = [session[0]]\n",
        "  for i in range(1, len(session)):\n",
        "    last_session = new_session[-1]\n",
        "    current_session = session[i]\n",
        "    if current_session[1] != last_session[1]:\n",
        "      new_session.append(current_session)\n",
        "  \n",
        "  return new_session\n",
        "\n",
        "# user_sessions -> sessions of a user -> setof(user: array((utc, tag)))\n",
        "def collapse_repeating_session(user_sessions):\n",
        "  for user, session in user_sessions.items():\n",
        "      for i in range(len(session)):\n",
        "        session[i] = collapse_session(session[i])\n",
        "\n",
        "# Remove sessions with only one event \n",
        "def remove_invalid_sessions(user_sessions):\n",
        "  new_user_sessions = {}\n",
        "  for user in user_sessions.keys():\n",
        "        if user not in new_user_sessions:\n",
        "            new_user_sessions[user] = []\n",
        "        current = user_sessions[user]\n",
        "        for session in current:\n",
        "            if len(session) > 1 and len(session) <= MAX_SESSION_LENGTH*2:\n",
        "                new_user_sessions[user].append(session)\n",
        "  return new_user_sessions\n",
        "\n",
        "\n",
        "# session -> list of sessions in format (utc, tag)\n",
        "def split_session(session):\n",
        "  splits = [session[i:i+MAX_SESSION_LENGTH] for i in range(0, len(session), MAX_SESSION_LENGTH)]\n",
        "  # check last session length\n",
        "  if len(splits[-1]) < 2:\n",
        "    return splits[:-1]\n",
        "  return splits\n",
        "\n",
        "# session -> list of sessions in format (timestamp, subreddit)\n",
        "def split_long_sessions(user_sessions):\n",
        "    for user, sessions in user_sessions.items():\n",
        "        user_sessions[user] = []\n",
        "        for session in sessions:\n",
        "          user_sessions[user] += split_session(session)\n",
        "\n",
        "# dataset -> session dataset (columns : [index, user, item, utc])\n",
        "# Assumes dataset is sorted by user and timestamp\n",
        "def split_dataset_to_sessions(dataset):\n",
        "  user_sessions = {}\n",
        "  current_session = []\n",
        "  for row in tqdm(dataset.itertuples()):\n",
        "    username, subreddit, utc = row[1:] # Ignore index\n",
        "    event = (utc, subreddit)\n",
        "    \n",
        "    # New User\n",
        "    if username not in user_sessions:\n",
        "      user_sessions[username] = []\n",
        "      current_session = []\n",
        "      user_sessions[username].append(current_session)\n",
        "      current_session.append(event)\n",
        "      continue\n",
        "    \n",
        "    # Existing user\n",
        "    last_event = current_session[-1]\n",
        "    timedelta = event[0] - last_event[0]\n",
        "    if timedelta < SESSION_TIME:\n",
        "      current_session.append(event)\n",
        "    else:\n",
        "      current_session = [event]\n",
        "      user_sessions[username].append(current_session)\n",
        "\n",
        "  collapse_repeating_session(user_sessions)\n",
        "  user_sessions = remove_invalid_sessions(user_sessions)\n",
        "  split_long_sessions(user_sessions)\n",
        "  \n",
        "  # Remove users with less sessions\n",
        "  to_remove = set()\n",
        "  for user, sessions in user_sessions.items():\n",
        "    if (len(sessions) < MIN_REQUIRED_SESSIONS):\n",
        "      to_remove.add(user)\n",
        "  for user in to_remove:\n",
        "    del user_sessions[user]\n",
        "  \n",
        "  return user_sessions\n",
        "  # Final sessions data available for user"
      ],
      "metadata": {
        "id": "gMwGPo92SU2H",
        "cellView": "form"
      },
      "execution_count": 35,
      "outputs": []
    },
    {
      "cell_type": "code",
      "source": [
        "sessions = split_dataset_to_sessions(Final_sortedData)"
      ],
      "metadata": {
        "colab": {
          "base_uri": "https://localhost:8080/"
        },
        "id": "MSFkrAUhB6i9",
        "outputId": "4e643c49-3134-41db-cc3e-f8f50f75b77e"
      },
      "execution_count": 36,
      "outputs": [
        {
          "output_type": "stream",
          "name": "stderr",
          "text": [
            "13937354it [05:06, 45532.41it/s]\n"
          ]
        }
      ]
    },
    {
      "cell_type": "code",
      "source": [
        "# Calculate statistics from session data\n",
        "\n",
        "users = sessions.keys()\n",
        "items = set()\n",
        "num_sessions = 0\n",
        "num_interactions = 0\n",
        "interactions_per_user = []\n",
        "interactions_per_session = []\n",
        "\n",
        "for _, ses in sessions.items():\n",
        "  num_sessions += len(ses)\n",
        "  user_interactions = 0\n",
        "  for session in ses:\n",
        "    num_interactions += len(session)\n",
        "    interactions_per_session.append(len(session))\n",
        "    user_interactions += len(session)\n",
        "    for event in session:\n",
        "      items.add(event[1])\n",
        "  interactions_per_user.append(user_interactions)"
      ],
      "metadata": {
        "id": "Sd7S-ErvGWpE"
      },
      "execution_count": 37,
      "outputs": []
    },
    {
      "cell_type": "markdown",
      "source": [
        "Results from paper   \n",
        "- No of users : 18173  \n",
        "- No of items : 13521  \n",
        "- No of session : 1119225  \n",
        "- No of interactions : 2868050  \n",
        "- No of interactions per session : 2.6  \n",
        "- No of interactions per user : 157.8 "
      ],
      "metadata": {
        "id": "gDgznV6eWhUC"
      }
    },
    {
      "cell_type": "code",
      "source": [
        "print(\"Results from preprocessing\")\n",
        "print(f\"No of users : {len(users)}\")\n",
        "print(f\"No of items : {len(items)}\")\n",
        "print(f\"No of session : {num_sessions}\")\n",
        "print(f\"No of interactions : {num_interactions}\")\n",
        "print(f\"No of interactions per session : {np.array(interactions_per_session).mean()}\")\n",
        "print(f\"No of interactions per user : {np.array(interactions_per_user).mean()}\")"
      ],
      "metadata": {
        "id": "v-snARHStB5A",
        "outputId": "c2e7cee5-c67d-4d39-ee55-bda018f68d6a",
        "colab": {
          "base_uri": "https://localhost:8080/"
        }
      },
      "execution_count": 39,
      "outputs": [
        {
          "output_type": "stream",
          "name": "stdout",
          "text": [
            "Results from preprocessing\n",
            "No of users : 18186\n",
            "No of items : 13737\n",
            "No of session : 1123442\n",
            "No of interactions : 3388177\n",
            "No of interactions per session : 3.015889560831801\n",
            "No of interactions per user : 186.30688441658418\n"
          ]
        }
      ]
    },
    {
      "cell_type": "code",
      "source": [
        ""
      ],
      "metadata": {
        "id": "2Co1j9_clUHy"
      },
      "execution_count": null,
      "outputs": []
    }
  ]
}